{
 "cells": [
  {
   "cell_type": "markdown",
   "id": "d92b8aa3",
   "metadata": {},
   "source": [
    "# 1. Setup ViZDoom"
   ]
  },
  {
   "cell_type": "code",
   "execution_count": 1,
   "id": "69167843",
   "metadata": {},
   "outputs": [
    {
     "name": "stdout",
     "output_type": "stream",
     "text": [
      "Defaulting to user installation because normal site-packages is not writeable\n",
      "Requirement already satisfied: vizdoom in c:\\users\\yacoo\\appdata\\roaming\\python\\python310\\site-packages (1.2.0)\n",
      "Requirement already satisfied: pygame>=2.1.3 in c:\\users\\yacoo\\appdata\\roaming\\python\\python310\\site-packages (from vizdoom) (2.4.0)\n",
      "Requirement already satisfied: numpy in c:\\programdata\\anaconda3\\lib\\site-packages (from vizdoom) (1.23.5)\n",
      "Requirement already satisfied: gymnasium>=0.28.0 in c:\\users\\yacoo\\appdata\\roaming\\python\\python310\\site-packages (from vizdoom) (0.28.1)\n",
      "Requirement already satisfied: cloudpickle>=1.2.0 in c:\\programdata\\anaconda3\\lib\\site-packages (from gymnasium>=0.28.0->vizdoom) (2.0.0)\n",
      "Requirement already satisfied: farama-notifications>=0.0.1 in c:\\users\\yacoo\\appdata\\roaming\\python\\python310\\site-packages (from gymnasium>=0.28.0->vizdoom) (0.0.4)\n",
      "Requirement already satisfied: jax-jumpy>=1.0.0 in c:\\users\\yacoo\\appdata\\roaming\\python\\python310\\site-packages (from gymnasium>=0.28.0->vizdoom) (1.0.0)\n",
      "Requirement already satisfied: typing-extensions>=4.3.0 in c:\\programdata\\anaconda3\\lib\\site-packages (from gymnasium>=0.28.0->vizdoom) (4.4.0)\n"
     ]
    }
   ],
   "source": [
    "!pip install vizdoom"
   ]
  },
  {
   "cell_type": "code",
   "execution_count": 2,
   "id": "6f7ca4e7",
   "metadata": {},
   "outputs": [
    {
     "name": "stderr",
     "output_type": "stream",
     "text": [
      "fatal: destination path 'ViZDoom' already exists and is not an empty directory.\n"
     ]
    }
   ],
   "source": [
    "!cd github_clone & git clone https://github.com/Farama-Foundation/ViZDoom"
   ]
  },
  {
   "cell_type": "code",
   "execution_count": 3,
   "id": "0455492b",
   "metadata": {},
   "outputs": [],
   "source": [
    "# ViZDoom for game env\n",
    "from vizdoom import *\n",
    "# Random for action sampling\n",
    "import random\n",
    "# Time for sleeping\n",
    "import time\n",
    "# Identity matrix\n",
    "import numpy as np"
   ]
  },
  {
   "cell_type": "code",
   "execution_count": 8,
   "id": "372c02ad",
   "metadata": {},
   "outputs": [],
   "source": [
    "# Setup game\n",
    "game = DoomGame()\n",
    "game.load_config('github_clone/ViZDoom/scenarios/basic.cfg')\n",
    "game.init()"
   ]
  },
  {
   "cell_type": "code",
   "execution_count": 5,
   "id": "f1a66662",
   "metadata": {},
   "outputs": [],
   "source": [
    "# Define the set of actions within this Doom env\n",
    "actions = np.identity(3, dtype=np.uint8)"
   ]
  },
  {
   "cell_type": "code",
   "execution_count": null,
   "id": "44787497",
   "metadata": {},
   "outputs": [],
   "source": [
    "episodes = 10\n",
    "\n",
    "for episode in range(episodes):\n",
    "    # Each episode is a replay of a game\n",
    "    game.new_episode()\n",
    "    \n",
    "    while not game.is_episode_finished():\n",
    "        state = game.get_state()\n",
    "        img = state.screen_buffer\n",
    "        # Ammo\n",
    "        info = state.game_variables\n",
    "        # Take action, skip next 4 frames, and return the result (better for our agent to see the action take place)\n",
    "        reward = game.make_action(random.choice(actions), 4)\n",
    "        print('reward: ', reward)\n",
    "        time.sleep(0.02)\n",
    "    print('Result: ', game.get_total_reward())\n",
    "    time.sleep(2)"
   ]
  },
  {
   "cell_type": "code",
   "execution_count": null,
   "id": "476156ab",
   "metadata": {},
   "outputs": [],
   "source": [
    "game.close()"
   ]
  },
  {
   "cell_type": "markdown",
   "id": "0eb10002",
   "metadata": {},
   "source": [
    "# 2. Convert to Gym Environment"
   ]
  },
  {
   "cell_type": "markdown",
   "id": "de58bf5d",
   "metadata": {},
   "source": [
    "# 3. View Game State"
   ]
  },
  {
   "cell_type": "markdown",
   "id": "4127018c",
   "metadata": {},
   "source": [
    "# 4. Setup Callback"
   ]
  },
  {
   "cell_type": "markdown",
   "id": "bdc95e28",
   "metadata": {},
   "source": [
    "# 5. Train the Model"
   ]
  },
  {
   "cell_type": "markdown",
   "id": "63cdc703",
   "metadata": {},
   "source": [
    "# 6. Load the Model"
   ]
  }
 ],
 "metadata": {
  "kernelspec": {
   "display_name": "Python 3 (ipykernel)",
   "language": "python",
   "name": "python3"
  },
  "language_info": {
   "codemirror_mode": {
    "name": "ipython",
    "version": 3
   },
   "file_extension": ".py",
   "mimetype": "text/x-python",
   "name": "python",
   "nbconvert_exporter": "python",
   "pygments_lexer": "ipython3",
   "version": "3.10.9"
  }
 },
 "nbformat": 4,
 "nbformat_minor": 5
}
