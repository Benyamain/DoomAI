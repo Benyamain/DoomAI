{
 "cells": [
  {
   "cell_type": "markdown",
   "id": "b115796f",
   "metadata": {},
   "source": [
    "# 1. Setup ViZDoom"
   ]
  },
  {
   "cell_type": "code",
   "execution_count": 1,
   "id": "3501966b",
   "metadata": {},
   "outputs": [
    {
     "name": "stdout",
     "output_type": "stream",
     "text": [
      "Defaulting to user installation because normal site-packages is not writeable\n",
      "Requirement already satisfied: vizdoom in c:\\users\\yacoo\\appdata\\roaming\\python\\python310\\site-packages (1.2.0)\n",
      "Requirement already satisfied: numpy in c:\\programdata\\anaconda3\\lib\\site-packages (from vizdoom) (1.23.5)\n",
      "Requirement already satisfied: gymnasium>=0.28.0 in c:\\users\\yacoo\\appdata\\roaming\\python\\python310\\site-packages (from vizdoom) (0.28.1)\n",
      "Requirement already satisfied: pygame>=2.1.3 in c:\\users\\yacoo\\appdata\\roaming\\python\\python310\\site-packages (from vizdoom) (2.4.0)\n",
      "Requirement already satisfied: typing-extensions>=4.3.0 in c:\\programdata\\anaconda3\\lib\\site-packages (from gymnasium>=0.28.0->vizdoom) (4.4.0)\n",
      "Requirement already satisfied: jax-jumpy>=1.0.0 in c:\\users\\yacoo\\appdata\\roaming\\python\\python310\\site-packages (from gymnasium>=0.28.0->vizdoom) (1.0.0)\n",
      "Requirement already satisfied: cloudpickle>=1.2.0 in c:\\programdata\\anaconda3\\lib\\site-packages (from gymnasium>=0.28.0->vizdoom) (2.0.0)\n",
      "Requirement already satisfied: farama-notifications>=0.0.1 in c:\\users\\yacoo\\appdata\\roaming\\python\\python310\\site-packages (from gymnasium>=0.28.0->vizdoom) (0.0.4)\n"
     ]
    }
   ],
   "source": [
    "!pip install vizdoom"
   ]
  },
  {
   "cell_type": "code",
   "execution_count": 2,
   "id": "e98479d3",
   "metadata": {},
   "outputs": [
    {
     "name": "stderr",
     "output_type": "stream",
     "text": [
      "fatal: destination path 'ViZDoom' already exists and is not an empty directory.\n"
     ]
    }
   ],
   "source": [
    "!cd github_clone & git clone https://github.com/Farama-Foundation/ViZDoom"
   ]
  },
  {
   "cell_type": "code",
   "execution_count": 3,
   "id": "c59c421f",
   "metadata": {},
   "outputs": [],
   "source": [
    "# ViZDoom for game env\n",
    "from vizdoom import *\n",
    "# Random for action sampling\n",
    "import random\n",
    "# Time for sleeping\n",
    "import time\n",
    "# Identity matrix\n",
    "import numpy as np"
   ]
  },
  {
   "cell_type": "code",
   "execution_count": 4,
   "id": "90ebcc8f",
   "metadata": {},
   "outputs": [],
   "source": [
    "# Setup game\n",
    "game = DoomGame()\n",
    "game.load_config('github_clone/ViZDoom/scenarios/basic.cfg')\n",
    "game.init()"
   ]
  },
  {
   "cell_type": "code",
   "execution_count": 5,
   "id": "e86e9f81",
   "metadata": {},
   "outputs": [],
   "source": [
    "# Define the set of actions within this Doom env\n",
    "actions = np.identity(3, dtype=np.uint8)"
   ]
  },
  {
   "cell_type": "code",
   "execution_count": 6,
   "id": "1e327eb9",
   "metadata": {},
   "outputs": [
    {
     "name": "stdout",
     "output_type": "stream",
     "text": [
      "reward:  -4.0\n",
      "reward:  -9.0\n",
      "reward:  -4.0\n",
      "reward:  -4.0\n",
      "reward:  -4.0\n",
      "reward:  -4.0\n",
      "reward:  -4.0\n",
      "reward:  -4.0\n",
      "reward:  -9.0\n",
      "reward:  -4.0\n",
      "reward:  -4.0\n",
      "reward:  -4.0\n",
      "reward:  -9.0\n",
      "reward:  -4.0\n",
      "reward:  -4.0\n",
      "reward:  -4.0\n",
      "reward:  -4.0\n",
      "reward:  97.0\n",
      "Result:  14.0\n",
      "reward:  -4.0\n",
      "reward:  -4.0\n",
      "reward:  -4.0\n",
      "reward:  -4.0\n"
     ]
    },
    {
     "ename": "ViZDoomUnexpectedExitException",
     "evalue": "Controlled ViZDoom instance exited unexpectedly.",
     "output_type": "error",
     "traceback": [
      "\u001b[1;31m---------------------------------------------------------------------------\u001b[0m",
      "\u001b[1;31mViZDoomUnexpectedExitException\u001b[0m            Traceback (most recent call last)",
      "Cell \u001b[1;32mIn[6], line 13\u001b[0m\n\u001b[0;32m     11\u001b[0m info \u001b[38;5;241m=\u001b[39m state\u001b[38;5;241m.\u001b[39mgame_variables\n\u001b[0;32m     12\u001b[0m \u001b[38;5;66;03m# Take action, skip next 4 frames, and return the result (better for our agent to see the action take place)\u001b[39;00m\n\u001b[1;32m---> 13\u001b[0m reward \u001b[38;5;241m=\u001b[39m \u001b[43mgame\u001b[49m\u001b[38;5;241;43m.\u001b[39;49m\u001b[43mmake_action\u001b[49m\u001b[43m(\u001b[49m\u001b[43mrandom\u001b[49m\u001b[38;5;241;43m.\u001b[39;49m\u001b[43mchoice\u001b[49m\u001b[43m(\u001b[49m\u001b[43mactions\u001b[49m\u001b[43m)\u001b[49m\u001b[43m,\u001b[49m\u001b[43m \u001b[49m\u001b[38;5;241;43m4\u001b[39;49m\u001b[43m)\u001b[49m\n\u001b[0;32m     14\u001b[0m \u001b[38;5;28mprint\u001b[39m(\u001b[38;5;124m'\u001b[39m\u001b[38;5;124mreward: \u001b[39m\u001b[38;5;124m'\u001b[39m, reward)\n\u001b[0;32m     15\u001b[0m time\u001b[38;5;241m.\u001b[39msleep(\u001b[38;5;241m0.02\u001b[39m)\n",
      "\u001b[1;31mViZDoomUnexpectedExitException\u001b[0m: Controlled ViZDoom instance exited unexpectedly."
     ]
    }
   ],
   "source": [
    "episodes = 10\n",
    "\n",
    "for episode in range(episodes):\n",
    "    # Each episode is a replay of a game\n",
    "    game.new_episode()\n",
    "    \n",
    "    while not game.is_episode_finished():\n",
    "        state = game.get_state()\n",
    "        img = state.screen_buffer\n",
    "        # Ammo\n",
    "        info = state.game_variables\n",
    "        # Take action, skip next 4 frames, and return the result (better for our agent to see the action take place)\n",
    "        reward = game.make_action(random.choice(actions), 4)\n",
    "        print('reward: ', reward)\n",
    "        time.sleep(0.02)\n",
    "    print('Result: ', game.get_total_reward())\n",
    "    time.sleep(2)"
   ]
  },
  {
   "cell_type": "code",
   "execution_count": null,
   "id": "c1d68d23",
   "metadata": {},
   "outputs": [],
   "source": [
    "game.close()"
   ]
  },
  {
   "cell_type": "markdown",
   "id": "e5598144",
   "metadata": {},
   "source": [
    "# 2. Convert to Gym Environment"
   ]
  },
  {
   "cell_type": "code",
   "execution_count": null,
   "id": "205aeaa8",
   "metadata": {},
   "outputs": [],
   "source": [
    "!pip install gym"
   ]
  },
  {
   "cell_type": "code",
   "execution_count": 8,
   "id": "b4cf6de5",
   "metadata": {},
   "outputs": [],
   "source": [
    "# Env base class\n",
    "from gym import Env\n",
    "# Gym spaces\n",
    "# Discrete: Represents our actions\n",
    "# Box: An array of any shape\n",
    "from gym.spaces import Discrete, Box\n",
    "# OpenCV\n",
    "import cv2"
   ]
  },
  {
   "cell_type": "code",
   "execution_count": 9,
   "id": "382dc555",
   "metadata": {},
   "outputs": [],
   "source": [
    "# ViZDoom env\n",
    "class VizDoomGym(Env):\n",
    "    \n",
    "    # Start the env\n",
    "    def __init__(self, render=False):\n",
    "        # Inherit from our Env class\n",
    "        super().__init__()\n",
    "        # Setup game\n",
    "        self.game = DoomGame()\n",
    "        self.game.load_config('github_clone/ViZDoom/scenarios/basic.cfg')\n",
    "        \n",
    "        # Allow us to train the model without having to open a new window each time\n",
    "        if render == False:\n",
    "            self.game.set_window_visible(False)\n",
    "        else:\n",
    "            self.game.set_window_visible(True)\n",
    "        \n",
    "        self.game.init()\n",
    "        \n",
    "        # Create spaces\n",
    "        # game.get_state().screen_buffer.shape\n",
    "        self.observation_space = Box(low=0, high=255, shape=(100,160,1), dtype=np.uint8)\n",
    "        self.action_space = Discrete(3)\n",
    "        \n",
    "    # Represents a step in the env\n",
    "    def step(self, action):\n",
    "        # Specify action and take step\n",
    "        actions = np.identity(3, dtype=np.uint8)\n",
    "        reward = self.game.make_action(actions[action], 4)\n",
    "        \n",
    "        if self.game.get_state():\n",
    "            state = self.game.get_state().screen_buffer\n",
    "            state = self.grayscale(state)\n",
    "            info = self.game.get_state().game_variables\n",
    "        else:\n",
    "            state = np.zeros(self.observation_space.shape)\n",
    "            info = 0\n",
    "            \n",
    "        done = self.game.is_episode_finished()\n",
    "        \n",
    "        return state, reward, done, info\n",
    "    \n",
    "    # Render the env\n",
    "    def render():\n",
    "        pass\n",
    "    \n",
    "    # New game\n",
    "    def reset(self):\n",
    "        self.game.new_episode()\n",
    "        state = self.game.get_state().screen_buffer\n",
    "        return self.grayscale(state)\n",
    "    \n",
    "    # Grayscale the game frame and resize it\n",
    "    # Reshaping the array into the form that cvtColor expects it in (channel should be at the end)\n",
    "    def grayscale(self, observation):\n",
    "        gray = cv2.cvtColor(np.moveaxis(observation,0,-1), cv2.COLOR_BGR2GRAY)\n",
    "        # Scales it down so less pixels to process\n",
    "        # Reducing what does not bring value when come time to train the model\n",
    "        resize = cv2.resize(gray, (160,100), interpolation=cv2.INTER_CUBIC)\n",
    "        state = np.reshape(resize, (100,160,1))\n",
    "        \n",
    "        return state\n",
    "    \n",
    "    # Close the env\n",
    "    def close(self):\n",
    "        self.game.close()"
   ]
  },
  {
   "cell_type": "code",
   "execution_count": 10,
   "id": "4aa6228c",
   "metadata": {},
   "outputs": [],
   "source": [
    "env = VizDoomGym(render=True)"
   ]
  },
  {
   "cell_type": "code",
   "execution_count": 11,
   "id": "d2ff353b",
   "metadata": {},
   "outputs": [],
   "source": [
    "env.close()"
   ]
  },
  {
   "cell_type": "code",
   "execution_count": 12,
   "id": "5d8509a6",
   "metadata": {},
   "outputs": [
    {
     "name": "stdout",
     "output_type": "stream",
     "text": [
      "Defaulting to user installation because normal site-packages is not writeable\n",
      "Requirement already satisfied: matplotlib in c:\\programdata\\anaconda3\\lib\\site-packages (3.7.0)\n",
      "Requirement already satisfied: numpy>=1.20 in c:\\programdata\\anaconda3\\lib\\site-packages (from matplotlib) (1.23.5)\n",
      "Requirement already satisfied: pyparsing>=2.3.1 in c:\\programdata\\anaconda3\\lib\\site-packages (from matplotlib) (3.0.9)\n",
      "Requirement already satisfied: packaging>=20.0 in c:\\programdata\\anaconda3\\lib\\site-packages (from matplotlib) (22.0)\n",
      "Requirement already satisfied: python-dateutil>=2.7 in c:\\programdata\\anaconda3\\lib\\site-packages (from matplotlib) (2.8.2)\n",
      "Requirement already satisfied: kiwisolver>=1.0.1 in c:\\programdata\\anaconda3\\lib\\site-packages (from matplotlib) (1.4.4)\n",
      "Requirement already satisfied: fonttools>=4.22.0 in c:\\programdata\\anaconda3\\lib\\site-packages (from matplotlib) (4.25.0)\n",
      "Requirement already satisfied: cycler>=0.10 in c:\\programdata\\anaconda3\\lib\\site-packages (from matplotlib) (0.11.0)\n",
      "Requirement already satisfied: pillow>=6.2.0 in c:\\programdata\\anaconda3\\lib\\site-packages (from matplotlib) (9.4.0)\n",
      "Requirement already satisfied: contourpy>=1.0.1 in c:\\programdata\\anaconda3\\lib\\site-packages (from matplotlib) (1.0.5)\n",
      "Requirement already satisfied: six>=1.5 in c:\\programdata\\anaconda3\\lib\\site-packages (from python-dateutil>=2.7->matplotlib) (1.16.0)\n"
     ]
    }
   ],
   "source": [
    "!pip install matplotlib\n",
    "from matplotlib import pyplot as plt\n",
    "#plt.imshow(state)"
   ]
  },
  {
   "cell_type": "markdown",
   "id": "6eb66928",
   "metadata": {},
   "source": [
    "# 3. View Game State"
   ]
  },
  {
   "cell_type": "markdown",
   "id": "5ed7ff69",
   "metadata": {},
   "source": [
    "# 4. Setup Callback"
   ]
  },
  {
   "cell_type": "markdown",
   "id": "a1ea5096",
   "metadata": {},
   "source": [
    "# 5. Train the Model"
   ]
  },
  {
   "cell_type": "markdown",
   "id": "4b99458a",
   "metadata": {},
   "source": [
    "# 6. Load the Model"
   ]
  }
 ],
 "metadata": {
  "kernelspec": {
   "display_name": "Python 3 (ipykernel)",
   "language": "python",
   "name": "python3"
  },
  "language_info": {
   "codemirror_mode": {
    "name": "ipython",
    "version": 3
   },
   "file_extension": ".py",
   "mimetype": "text/x-python",
   "name": "python",
   "nbconvert_exporter": "python",
   "pygments_lexer": "ipython3",
   "version": "3.10.9"
  }
 },
 "nbformat": 4,
 "nbformat_minor": 5
}
